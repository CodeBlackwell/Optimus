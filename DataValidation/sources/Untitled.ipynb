{
 "cells": [
  {
   "cell_type": "code",
   "execution_count": 1,
   "metadata": {},
   "outputs": [],
   "source": [
    "import os\n",
    "import json\n",
    "from pprint import pprint"
   ]
  },
  {
   "cell_type": "code",
   "execution_count": 2,
   "metadata": {},
   "outputs": [
    {
     "data": {
      "text/plain": [
       "'/Users/codeblackwell/Desktop/Avantlink_QA/DataValidation/sources'"
      ]
     },
     "execution_count": 2,
     "metadata": {},
     "output_type": "execute_result"
    }
   ],
   "source": [
    "os.getcwd()"
   ]
  },
  {
   "cell_type": "code",
   "execution_count": 3,
   "metadata": {},
   "outputs": [],
   "source": [
    "path = os.getcwd() + \"/prepared_columns.json\"\n",
    "fact_dim_map = {}"
   ]
  },
  {
   "cell_type": "code",
   "execution_count": 4,
   "metadata": {},
   "outputs": [],
   "source": [
    "with open(path) as f:\n",
    "    prepared_columns = json.load(f)"
   ]
  },
  {
   "cell_type": "code",
   "execution_count": 5,
   "metadata": {},
   "outputs": [],
   "source": [
    "    for row_idx, row in enumerate(prepared_columns):\n",
    "        for def_idx, definition in enumerate(row[\"definition\"]):\n",
    "            fact_dim_map[prepared_columns[row_idx][\"definition\"][def_idx][\"id\"]] = row[\"classifier\"]"
   ]
  },
  {
   "cell_type": "code",
   "execution_count": 8,
   "metadata": {},
   "outputs": [
    {
     "name": "stdout",
     "output_type": "stream",
     "text": [
      "{'affiliate_type_order-affiliate_type': 'fact',\n",
      " 'affiliate_type_order-order_amount': 'fact',\n",
      " 'affiliate_type_order-order_id': 'fact',\n",
      " 'calculation': 'fact',\n",
      " 'dim_affiliate-active_or_inactive': 'dim',\n",
      " 'dim_affiliate-affiliate_city': 'dim',\n",
      " 'dim_affiliate-affiliate_country': 'dim',\n",
      " 'dim_affiliate-affiliate_first_name': 'dim',\n",
      " 'dim_affiliate-affiliate_id': 'dim',\n",
      " 'dim_affiliate-affiliate_last_name': 'dim',\n",
      " 'dim_affiliate-affiliate_name': 'dim',\n",
      " 'dim_affiliate-affiliate_network': 'dim',\n",
      " 'dim_affiliate-affiliate_state': 'dim',\n",
      " 'dim_affiliate-affiliate_uuid': 'dim',\n",
      " 'dim_affiliate-affiliate_zip': 'dim',\n",
      " 'dim_affiliate_default_website-affiliate_website_id': 'dim',\n",
      " 'dim_affiliate_default_website-affiliate_website_url_stripped': 'dim',\n",
      " 'dim_affiliate_website-affiliate_website_id': 'dim',\n",
      " 'dim_affiliate_website-affiliate_website_url_stripped': 'dim',\n",
      " 'dim_au_holidays-holiday_name': 'dim',\n",
      " 'dim_au_holidays-holiday_type': 'dim',\n",
      " 'dim_ca_holidays-holiday_name': 'dim',\n",
      " 'dim_ca_holidays-holiday_type': 'dim',\n",
      " 'dim_date-day_number_of_month': 'dim',\n",
      " 'dim_date-day_of_week_name': 'dim',\n",
      " 'dim_date-mm_dd_yyyy': 'dim',\n",
      " 'dim_date-mon_yy': 'dim',\n",
      " 'dim_date-month_day': 'dim',\n",
      " 'dim_date-month_name': 'dim',\n",
      " 'dim_date-month_name_abbreviation': 'dim',\n",
      " 'dim_date-month_yyyy': 'dim',\n",
      " 'dim_date-quarter_begin_date_mm_dd_yyyy': 'dim',\n",
      " 'dim_date-week_begin_date_mm_dd_yyyy': 'dim',\n",
      " 'dim_date-year_number': 'dim',\n",
      " 'dim_merchant-merchant_id': 'dim',\n",
      " 'dim_merchant-merchant_name': 'dim',\n",
      " 'dim_merchant-merchant_network': 'dim',\n",
      " 'dim_merchant-merchant_url': 'dim',\n",
      " 'dim_merchant-merchant_uuid': 'dim',\n",
      " 'dim_order_avantlink-custom_tracking_code': 'dim',\n",
      " 'dim_order_avantlink-exclusive_coupon_code': 'dim',\n",
      " 'dim_order_avantlink-new_customer': 'dim',\n",
      " 'dim_order_avantlink-order_id': 'dim',\n",
      " 'dim_order_avantlink-order_number': 'dim',\n",
      " 'dim_order_avantlink-order_transaction_date': 'dim',\n",
      " 'dim_order_avantmetrics-deduped_pixel_name': 'dim',\n",
      " 'dim_order_avantmetrics-marketing_channel': 'dim',\n",
      " 'dim_order_avantmetrics-order_number': 'dim',\n",
      " 'dim_order_avantmetrics-tracked_pixel_name': 'dim',\n",
      " 'dim_us_holidays-holiday_name': 'dim',\n",
      " 'dim_us_holidays-holiday_type': 'dim',\n",
      " 'fact_affiliate_type_order_summary-affiliate_id': 'fact',\n",
      " 'fact_affiliate_type_order_summary-affiliate_website_url': 'fact',\n",
      " 'fact_affiliate_type_order_summary-checkout_influencer_count': 'fact',\n",
      " 'fact_affiliate_type_order_summary-influencer_count': 'fact',\n",
      " 'fact_affiliate_type_order_summary-introducer_count': 'fact',\n",
      " 'fact_cpc_earning-affiliate_earnings': 'fact',\n",
      " 'fact_cpc_earning-network_earnings': 'fact',\n",
      " 'fact_hit-summary_hit_count': 'fact',\n",
      " 'fact_impression-summary_impression_count': 'fact',\n",
      " 'fact_order_adjustment-adjustment_hash_key': 'fact',\n",
      " 'fact_order_adjustment-order_combined_adjustment_amount': 'fact',\n",
      " 'fact_order_avantlink-order_amount': 'fact',\n",
      " 'fact_order_avantlink-order_hash_key': 'fact',\n",
      " 'fact_order_avantmetrics_analytics-avantlink_orders': 'fact',\n",
      " 'fact_order_avantmetrics_analytics-order_amount': 'fact',\n",
      " 'fact_order_avantmetrics_analytics-orders': 'fact',\n",
      " 'fact_order_avantmetrics_analytics-page_views': 'fact',\n",
      " 'fact_order_avantmetrics_analytics-unique_visits': 'fact',\n",
      " 'fact_order_avantmetrics_analytics-visits': 'fact',\n",
      " 'fact_order_avantmetrics_summary-affiliate_orders': 'fact',\n",
      " 'fact_order_avantmetrics_summary-checkout_influencer': 'fact',\n",
      " 'fact_order_avantmetrics_summary-has_multiple_affiliates': 'fact',\n",
      " 'fact_order_avantmetrics_summary-influencer': 'fact',\n",
      " 'fact_order_avantmetrics_summary-introducer': 'fact',\n",
      " 'fact_order_avantmetrics_summary-is_affiliate_order': 'fact',\n",
      " 'fact_order_avantmetrics_summary-is_modified_attribution': 'fact',\n",
      " 'fact_order_avantmetrics_summary-marketing_cross_channel': 'dim',\n",
      " 'fact_order_avantmetrics_summary-order_amount': 'fact',\n",
      " 'fact_order_avantmetrics_summary-order_date': 'fact',\n",
      " 'fact_order_avantmetrics_summary-order_hash_key': 'fact',\n",
      " 'fact_order_avantmetrics_summary-order_id': 'fact',\n",
      " 'fact_order_avantmetrics_summary-order_number': 'fact',\n",
      " 'fact_order_bonus-bonus_commission_amount': 'fact',\n",
      " 'fact_order_bonus-bonus_network_commission_amount': 'fact',\n",
      " 'fact_order_channel_summary-marketing_channel': 'fact',\n",
      " 'fact_order_channel_summary-order_count': 'fact',\n",
      " 'fact_order_commission-incentive_commission_amount': 'fact',\n",
      " 'fact_order_commission_adjustment-network_commission_adjustment_amount': 'fact',\n",
      " 'fact_order_commission_adjustment-order_commission_adjustment_amount': 'fact',\n",
      " 'fact_ppb_earning-bid_amount': 'fact',\n",
      " 'fact_ppb_earning-network_commission': 'fact',\n",
      " 'fact_sales_projections-actual_network_earnings': 'fact',\n",
      " 'fact_sales_projections-actual_sales': 'fact',\n",
      " 'fact_sales_projections-projected_network_earnings': 'fact',\n",
      " 'fact_sales_projections-projected_network_earnings_hourly': 'fact',\n",
      " 'fact_sales_projections-projected_sales': 'fact',\n",
      " 'fact_sales_projections-projected_sales_hourly': 'fact',\n",
      " 'pk_columns-aggregate': 'dim',\n",
      " 'pk_columns-column_id': 'dim',\n",
      " 'pk_columns-column_name': 'dim',\n",
      " 'pk_columns-data_type': 'dim',\n",
      " 'pk_columns-table_name': 'dim',\n",
      " 'pk_columns_requested-duration_in_seconds': 'fact',\n",
      " 'pk_columns_requested-number_of_records': 'fact',\n",
      " 'pk_columns_requested-requested_uuid': 'fact',\n",
      " 'pk_picker-picker_hash_key': 'dim',\n",
      " 'pk_picker-picker_name': 'dim',\n",
      " 'pk_requests-request_uuid': 'dim',\n",
      " 'pk_requests-source': 'dim',\n",
      " 'pk_users-user_first_name': 'dim',\n",
      " 'pk_users-user_last_name': 'dim',\n",
      " 'pk_users-user_type': 'dim',\n",
      " 'pk_users-user_uuid': 'dim'}\n"
     ]
    }
   ],
   "source": [
    "pprint(fact_dim_map)"
   ]
  },
  {
   "cell_type": "code",
   "execution_count": null,
   "metadata": {},
   "outputs": [],
   "source": [
    "    "
   ]
  }
 ],
 "metadata": {
  "kernelspec": {
   "display_name": "Python 3",
   "language": "python",
   "name": "python3"
  },
  "language_info": {
   "codemirror_mode": {
    "name": "ipython",
    "version": 3
   },
   "file_extension": ".py",
   "mimetype": "text/x-python",
   "name": "python",
   "nbconvert_exporter": "python",
   "pygments_lexer": "ipython3",
   "version": "3.6.3rc1"
  }
 },
 "nbformat": 4,
 "nbformat_minor": 2
}
